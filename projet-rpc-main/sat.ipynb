{
 "cells": [
  {
   "cell_type": "code",
   "execution_count": 12,
   "metadata": {},
   "outputs": [
    {
     "ename": "KeyboardInterrupt",
     "evalue": "",
     "output_type": "error",
     "traceback": [
      "\u001b[1;31m---------------------------------------------------------------------------\u001b[0m",
      "\u001b[1;31mKeyboardInterrupt\u001b[0m                         Traceback (most recent call last)",
      "Cell \u001b[1;32mIn[12], line 65\u001b[0m\n\u001b[0;32m     57\u001b[0m vehicle_dims \u001b[38;5;241m=\u001b[39m (\u001b[38;5;241m40\u001b[39m, \u001b[38;5;241m40\u001b[39m, \u001b[38;5;241m20\u001b[39m)\n\u001b[0;32m     58\u001b[0m items \u001b[38;5;241m=\u001b[39m [\n\u001b[0;32m     59\u001b[0m     (\u001b[38;5;241m40\u001b[39m, \u001b[38;5;241m20\u001b[39m, \u001b[38;5;241m10\u001b[39m, \u001b[38;5;241m-\u001b[39m\u001b[38;5;241m1\u001b[39m),\n\u001b[0;32m     60\u001b[0m     (\u001b[38;5;241m40\u001b[39m, \u001b[38;5;241m20\u001b[39m, \u001b[38;5;241m10\u001b[39m, \u001b[38;5;241m-\u001b[39m\u001b[38;5;241m1\u001b[39m),\n\u001b[0;32m     61\u001b[0m     (\u001b[38;5;241m10\u001b[39m, \u001b[38;5;241m40\u001b[39m, \u001b[38;5;241m10\u001b[39m, \u001b[38;5;241m-\u001b[39m\u001b[38;5;241m1\u001b[39m),\n\u001b[0;32m     62\u001b[0m     (\u001b[38;5;241m30\u001b[39m, \u001b[38;5;241m40\u001b[39m, \u001b[38;5;241m10\u001b[39m, \u001b[38;5;241m-\u001b[39m\u001b[38;5;241m1\u001b[39m)\n\u001b[0;32m     63\u001b[0m ]\n\u001b[1;32m---> 65\u001b[0m \u001b[38;5;28mprint\u001b[39m(\u001b[43moptimize_packing\u001b[49m\u001b[43m(\u001b[49m\u001b[43mvehicle_dims\u001b[49m\u001b[43m,\u001b[49m\u001b[43m \u001b[49m\u001b[43mitems\u001b[49m\u001b[43m)\u001b[49m)\n",
      "Cell \u001b[1;32mIn[12]\u001b[0m, in \u001b[0;36moptimize_packing\u001b[1;34m(vehicle_dims, items)\u001b[0m\n\u001b[0;32m      0\u001b[0m <Error retrieving source code with stack_data see ipython/ipython#13598>\n",
      "\u001b[1;31mKeyboardInterrupt\u001b[0m: "
     ]
    }
   ],
   "source": [
    "from pysat.solvers import Minisat22\n",
    "from itertools import combinations\n",
    "\n",
    "def optimize_packing(vehicle_dims, items):\n",
    "    L, W, H = vehicle_dims\n",
    "    num_items = len(items)\n",
    "    max_v = 3  # On limite à 3 véhicules\n",
    "\n",
    "    # Fonction pour encoder les variables : objet i placé au coin (x, y, z) dans le véhicule v\n",
    "    def var_index(i, v, x, y, z):\n",
    "        return 1 + i * (max_v * L * W * H) + v * (L * W * H) + x * (W * H) + y * H + z\n",
    "\n",
    "    solver = Minisat22()\n",
    "\n",
    "    # Contrainte 1 : Chaque objet doit être placé dans un véhicule avec une position valide\n",
    "    for i, (L2, W2, H2, _) in enumerate(items):\n",
    "        clause = []\n",
    "        for v in range(max_v):\n",
    "            for x in range(L - L2 + 1):  # Assure que l'objet reste dans les limites\n",
    "                for y in range(W - W2 + 1):\n",
    "                    for z in range(H - H2 + 1):\n",
    "                        clause.append(var_index(i, v, x, y, z))\n",
    "        solver.add_clause(clause)\n",
    "\n",
    "    # Contrainte 2 : Les objets ne se chevauchent pas\n",
    "    for (i1, (L1, W1, H1, _)), (i2, (L2, W2, H2, _)) in combinations(enumerate(items), 2):\n",
    "        for v in range(max_v):  # Les objets ne se chevauchent que dans le même véhicule\n",
    "            for x1 in range(L - L1 + 1):\n",
    "                for y1 in range(W - W1 + 1):\n",
    "                    for z1 in range(H - H1 + 1):\n",
    "                        for x2 in range(x1, x1 + L1):\n",
    "                            for y2 in range(y1, y1 + W1):\n",
    "                                for z2 in range(z1, z1 + H1):\n",
    "                                    if x2 < L and y2 < W and z2 < H:  # Positions valides\n",
    "                                        solver.add_clause([\n",
    "                                            -var_index(i1, v, x1, y1, z1),\n",
    "                                            -var_index(i2, v, x2, y2, z2)\n",
    "                                        ])\n",
    "\n",
    "    # Résolution\n",
    "    if solver.solve():\n",
    "        model = solver.get_model()\n",
    "        output = \"SAT\\n\"\n",
    "        for i, (L2, W2, H2, _) in enumerate(items):\n",
    "            for v in range(max_v):\n",
    "                for x in range(L):\n",
    "                    for y in range(W):\n",
    "                        for z in range(H):\n",
    "                            if var_index(i, v, x, y, z) in model:\n",
    "                                output += f\"{v} {x} {y} {z} {x+L2} {y+W2} {z+H2}\\n\"\n",
    "                                break\n",
    "        return output.strip()\n",
    "    else:\n",
    "        return \"UNSAT\"\n",
    "\n",
    "# Exemple d'utilisation\n",
    "vehicle_dims = (40, 40, 20)\n",
    "items = [\n",
    "    (40, 20, 10, -1),\n",
    "    (40, 20, 10, -1),\n",
    "    (10, 40, 10, -1),\n",
    "    (30, 40, 10, -1)\n",
    "]\n",
    "\n",
    "print(optimize_packing(vehicle_dims, items))"
   ]
  }
 ],
 "metadata": {
  "kernelspec": {
   "display_name": "Python 3",
   "language": "python",
   "name": "python3"
  },
  "language_info": {
   "codemirror_mode": {
    "name": "ipython",
    "version": 3
   },
   "file_extension": ".py",
   "mimetype": "text/x-python",
   "name": "python",
   "nbconvert_exporter": "python",
   "pygments_lexer": "ipython3",
   "version": "3.11.9"
  }
 },
 "nbformat": 4,
 "nbformat_minor": 2
}
